{
 "cells": [
  {
   "cell_type": "markdown",
   "metadata": {},
   "source": [
    "# Analyse des Risques Walmart\n",
    "## Combinaison d'Analyse Traditionnelle et d'IA Générative\n",
    "\n",
    "Ce notebook présente l'analyse complète des risques basée sur les avis clients de Walmart, en combinant des techniques d'analyse traditionnelle et l'IA générative (Gemini)."
   ]
  },
  {
   "cell_type": "code",
   "execution_count": null,
   "metadata": {},
   "source": [
    "# Import des bibliothèques nécessaires\n",
    "import pandas as pd\n",
    "import numpy as np\n",
    "import matplotlib.pyplot as plt\n",
    "import seaborn as sns\n",
    "from wordcloud import WordCloud\n",
    "\n",
    "# Import de nos modules d'analyse\n",
    "from walmart_analysis import WalmartRiskAnalyzer\n",
    "from genai_analysis import GeminiRiskAnalyzer"
   ]
  },
  {
   "cell_type": "markdown",
   "metadata": {},
   "source": [
    "## 1. Chargement et Préparation des Données"
   ]
  },
  {
   "cell_type": "code",
   "execution_count": null,
   "metadata": {},
   "source": [
    "# Chargement des données\n",
    "df = pd.read_csv('../data/Walmart_reviews_data.csv')\n",
    "\n",
    "# Affichage des premières lignes\n",
    "print(\"Aperçu des données :\")\n",
    "display(df.head())\n",
    "\n",
    "print(\"\\nInformations sur le dataset :\")\n",
    "display(df.info())"
   ]
  },
  {
   "cell_type": "markdown",
   "metadata": {},
   "source": [
    "## 2. Analyse Traditionnelle des Risques"
   ]
  },
  {
   "cell_type": "code",
   "execution_count": null,
   "metadata": {},
   "source": [
    "# Initialisation de l'analyseur traditionnel\n",
    "traditional_analyzer = WalmartRiskAnalyzer('../data/Walmart_reviews_data.csv')\n",
    "\n",
    "# Prétraitement\n",
    "traditional_analyzer.preprocess_date()\n",
    "\n",
    "# Analyse des risques\n",
    "traditional_analyzer.identify_risk_categories()\n",
    "traditional_analyzer.analyze_sentiment()\n",
    "\n",
    "# Visualisations\n",
    "plt.figure(figsize=(15, 10))\n",
    "traditional_analyzer.plot_risk_analysis()\n",
    "plt.tight_layout()\n",
    "plt.show()"
   ]
  },
  {
   "cell_type": "markdown",
   "metadata": {},
   "source": [
    "## 3. Analyse avec IA Générative (Gemini)"
   ]
  },
  {
   "cell_type": "code",
   "execution_count": null,
   "metadata": {},
   "source": [
    "# Initialisation de l'analyseur Gemini\n",
    "genai_analyzer = GeminiRiskAnalyzer(df)\n",
    "\n",
    "# Analyse d'un échantillon d'avis\n",
    "print(\"Analyse d'un échantillon d'avis...\")\n",
    "batch_analysis = genai_analyzer.analyze_batch(sample_size=5)\n",
    "\n",
    "if batch_analysis:\n",
    "    print(\"\\nRésultats de l'analyse par échantillon :\")\n",
    "    print(f\"Nombre d'avis analysés : {batch_analysis['total_reviews_analyzed']}\")\n",
    "    \n",
    "    print(\"\\nCatégories de risque identifiées :\")\n",
    "    for category in batch_analysis['risk_categories']:\n",
    "        print(f\"- {category}\")\n",
    "    \n",
    "    print(\"\\nDistribution de la sévérité des risques :\")\n",
    "    severity_df = pd.DataFrame(batch_analysis['severity_distribution'].items(), \n",
    "                              columns=['Severity', 'Percentage'])\n",
    "    \n",
    "    plt.figure(figsize=(10, 6))\n",
    "    sns.barplot(data=severity_df, x='Severity', y='Percentage')\n",
    "    plt.title('Distribution de la Sévérité des Risques')\n",
    "    plt.show()"
   ]
  },
  {
   "cell_type": "markdown",
   "metadata": {},
   "source": [
    "## 4. Génération du Rapport d'Analyse"
   ]
  },
  {
   "cell_type": "code",
   "execution_count": null,
   "metadata": {},
   "source": [
    "# Génération du rapport complet\n",
    "print(\"Génération du rapport d'analyse...\\n\")\n",
    "report = genai_analyzer.generate_risk_report()\n",
    "\n",
    "if report:\n",
    "    print(\"Rapport d'analyse des risques :\")\n",
    "    print(report)"
   ]
  },
  {
   "cell_type": "markdown",
   "metadata": {},
   "source": [
    "## 5. Conclusions et Recommandations\n",
    "\n",
    "### Points Clés :\n",
    "1. Les avis clients révèlent plusieurs domaines de risque majeurs\n",
    "2. L'IA générative a permis d'identifier des patterns subtils\n",
    "3. La combinaison des deux approches offre une vue complète\n",
    "\n",
    "### Recommandations Principales :\n",
    "1. Améliorer le service client\n",
    "2. Optimiser les processus de livraison\n",
    "3. Renforcer la sécurité des comptes\n",
    "4. Mettre en place un système de détection précoce\n",
    "\n",
    "### Prochaines Étapes :\n",
    "1. Implémenter les recommandations prioritaires\n",
    "2. Suivre les métriques de risque\n",
    "3. Mettre à jour l'analyse régulièrement"
   ]
  }
 ],
 "metadata": {
  "kernelspec": {
   "display_name": "Python 3",
   "language": "python",
   "name": "python3"
  },
  "language_info": {
   "codemirror_mode": {
    "name": "ipython",
    "version": 3
   },
   "file_extension": ".py",
   "mimetype": "text/x-python",
   "name": "python",
   "nbconvert_exporter": "python",
   "pygments_lexer": "ipython3",
   "version": "3.8.0"
  }
 },
 "nbformat": 4,
 "nbformat_minor": 4
}
